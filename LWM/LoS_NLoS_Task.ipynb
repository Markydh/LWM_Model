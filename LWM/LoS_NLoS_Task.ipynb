{
 "cells": [
  {
   "cell_type": "code",
   "execution_count": 1,
   "metadata": {},
   "outputs": [],
   "source": [
    "from input_preprocess import tokenizer\n",
    "from lwm_model import lwm\n",
    "import torch\n",
    "import numpy as np\n",
    "\n",
    "# 选择数据集\n",
    "scenario_names = np.array([\n",
    "    \"city_18_denver\", \"city_15_indianapolis\", \"city_19_oklahoma\",\n",
    "    \"city_12_fortworth\", \"city_11_santaclara\", \"city_7_sandiego\"\n",
    "])\n",
    "scenario_idxs = np.array([0, 1, 2, 3, 4, 5])  \n",
    "selected_scenario_names = scenario_names[scenario_idxs]"
   ]
  },
  {
   "cell_type": "code",
   "execution_count": 43,
   "metadata": {},
   "outputs": [
    {
     "name": "stdout",
     "output_type": "stream",
     "text": [
      "\n",
      "Basestation 3\n",
      "\n",
      "UE-BS Channels\n",
      "/Users/dianhongyang/Desktop/毕业设计/LWM_MODEL/LWM/scenarios/city_18_denver/BS3_UE_0-6970.mat\n"
     ]
    },
    {
     "name": "stderr",
     "output_type": "stream",
     "text": [
      "Reading ray-tracing: 100%|██████████| 6970/6970 [00:00<00:00, 486702.94it/s]\n",
      "Generating channels: 100%|██████████| 6970/6970 [00:00<00:00, 42575.26it/s]\n"
     ]
    },
    {
     "name": "stdout",
     "output_type": "stream",
     "text": [
      "\n",
      "Basestation 3\n",
      "\n",
      "UE-BS Channels\n",
      "/Users/dianhongyang/Desktop/毕业设计/LWM_MODEL/LWM/scenarios/city_15_indianapolis/BS3_UE_0-6320.mat\n"
     ]
    },
    {
     "name": "stderr",
     "output_type": "stream",
     "text": [
      "Reading ray-tracing: 100%|██████████| 6320/6320 [00:00<00:00, 244592.91it/s]\n",
      "Generating channels: 100%|██████████| 6320/6320 [00:00<00:00, 12501.21it/s]\n"
     ]
    },
    {
     "name": "stdout",
     "output_type": "stream",
     "text": [
      "\n",
      "Basestation 1\n",
      "\n",
      "UE-BS Channels\n",
      "/Users/dianhongyang/Desktop/毕业设计/LWM_MODEL/LWM/scenarios/city_19_oklahoma/BS1_UE_0-6150.mat\n"
     ]
    },
    {
     "name": "stderr",
     "output_type": "stream",
     "text": [
      "Reading ray-tracing: 100%|██████████| 6150/6150 [00:00<00:00, 216297.32it/s]\n",
      "Generating channels: 100%|██████████| 6150/6150 [00:00<00:00, 10900.97it/s]\n"
     ]
    },
    {
     "name": "stdout",
     "output_type": "stream",
     "text": [
      "\n",
      "Basestation 1\n",
      "\n",
      "UE-BS Channels\n",
      "/Users/dianhongyang/Desktop/毕业设计/LWM_MODEL/LWM/scenarios/city_12_fortworth/BS1_UE_0-6192.mat\n"
     ]
    },
    {
     "name": "stderr",
     "output_type": "stream",
     "text": [
      "Reading ray-tracing: 100%|██████████| 6192/6192 [00:00<00:00, 307463.45it/s]\n",
      "Generating channels: 100%|██████████| 6192/6192 [00:00<00:00, 25382.66it/s]\n"
     ]
    },
    {
     "name": "stdout",
     "output_type": "stream",
     "text": [
      "\n",
      "Basestation 1\n",
      "\n",
      "UE-BS Channels\n",
      "/Users/dianhongyang/Desktop/毕业设计/LWM_MODEL/LWM/scenarios/city_11_santaclara/BS1_UE_0-5358.mat\n"
     ]
    },
    {
     "name": "stderr",
     "output_type": "stream",
     "text": [
      "Reading ray-tracing: 100%|██████████| 5358/5358 [00:00<00:00, 237659.48it/s]\n",
      "Generating channels: 100%|██████████| 5358/5358 [00:00<00:00, 14828.29it/s]\n"
     ]
    },
    {
     "name": "stdout",
     "output_type": "stream",
     "text": [
      "\n",
      "Basestation 1\n",
      "\n",
      "UE-BS Channels\n",
      "/Users/dianhongyang/Desktop/毕业设计/LWM_MODEL/LWM/scenarios/city_7_sandiego/BS1_UE_0-5893.mat\n"
     ]
    },
    {
     "name": "stderr",
     "output_type": "stream",
     "text": [
      "Reading ray-tracing: 100%|██████████| 5893/5893 [00:00<00:00, 315558.08it/s]\n",
      "Generating channels: 100%|██████████| 5893/5893 [00:00<00:00, 18003.35it/s]\n",
      "Processing items: 100%|██████████| 14840/14840 [00:00<00:00, 42186.67it/s]\n"
     ]
    }
   ],
   "source": [
    "# 对数据进行标记\n",
    "preprocessed_chs = tokenizer(\n",
    "    selected_scenario_names=selected_scenario_names,  # Selects predefined DeepMIMOv3 scenarios_test. Set to None to load your own dataset.\n",
    "    manual_data=None,  # If using a custom dataset, ensure it is a wireless channel dataset of size (N,32,32) based on the settings provided above.\n",
    "    gen_raw=True  # Set gen_raw=False to apply masked channel modeling (MCM), as used in LWM pre-training. For inference, masking is unnecessary unless you want to evaluate LWM's ability to handle noisy inputs.\n",
    ")"
   ]
  },
  {
   "cell_type": "code",
   "execution_count": 44,
   "metadata": {},
   "outputs": [
    {
     "name": "stdout",
     "output_type": "stream",
     "text": [
      "Loading the LWM model on cpu...\n",
      "Model loaded successfully from /Users/dianhongyang/Desktop/毕业设计/LWM_Model/LWM/model_weights.pth to cpu\n"
     ]
    }
   ],
   "source": [
    "# 加载模型\n",
    "device = torch.device(\"mps\" if torch.cuda.is_available() else \"cpu\")\n",
    "print(f\"Loading the LWM model on {device}...\")\n",
    "model = lwm.from_pretrained(device=device)"
   ]
  },
  {
   "cell_type": "code",
   "execution_count": 45,
   "metadata": {},
   "outputs": [
    {
     "name": "stdout",
     "output_type": "stream",
     "text": [
      "LWM loss: 0.0193\n"
     ]
    }
   ],
   "source": [
    "# 进行推理\n",
    "from inference import lwm_inference, create_raw_dataset\n",
    "input_types = ['cls_emb', 'channel_emb', 'raw']\n",
    "selected_input_type = input_types[0]  # Change the index to select LWM CLS embeddings, LWM channel embeddings, or the original input channels.\n",
    "\n",
    "if selected_input_type in ['cls_emb', 'channel_emb']:\n",
    "    dataset = lwm_inference(preprocessed_chs, selected_input_type, model, device)\n",
    "else:\n",
    "    dataset = create_raw_dataset(preprocessed_chs, device)"
   ]
  },
  {
   "cell_type": "code",
   "execution_count": 46,
   "metadata": {},
   "outputs": [
    {
     "data": {
      "text/plain": [
       "torch.Size([14840, 64])"
      ]
     },
     "execution_count": 46,
     "metadata": {},
     "output_type": "execute_result"
    }
   ],
   "source": [
    "dataset.shape"
   ]
  },
  {
   "cell_type": "code",
   "execution_count": 47,
   "metadata": {},
   "outputs": [
    {
     "name": "stdout",
     "output_type": "stream",
     "text": [
      "\n",
      "Basestation 3\n",
      "\n",
      "UE-BS Channels\n",
      "/Users/dianhongyang/Desktop/毕业设计/LWM_MODEL/LWM/scenarios/city_18_denver/BS3_UE_0-6970.mat\n"
     ]
    },
    {
     "name": "stderr",
     "output_type": "stream",
     "text": [
      "Reading ray-tracing: 100%|██████████| 6970/6970 [00:00<00:00, 508528.72it/s]\n",
      "Generating channels: 100%|██████████| 6970/6970 [00:00<00:00, 39932.44it/s]\n"
     ]
    },
    {
     "name": "stdout",
     "output_type": "stream",
     "text": [
      "\n",
      "Basestation 3\n",
      "\n",
      "UE-BS Channels\n",
      "/Users/dianhongyang/Desktop/毕业设计/LWM_MODEL/LWM/scenarios/city_15_indianapolis/BS3_UE_0-6320.mat\n"
     ]
    },
    {
     "name": "stderr",
     "output_type": "stream",
     "text": [
      "Reading ray-tracing: 100%|██████████| 6320/6320 [00:00<00:00, 217617.61it/s]\n",
      "Generating channels: 100%|██████████| 6320/6320 [00:00<00:00, 12602.82it/s]\n"
     ]
    },
    {
     "name": "stdout",
     "output_type": "stream",
     "text": [
      "\n",
      "Basestation 1\n",
      "\n",
      "UE-BS Channels\n",
      "/Users/dianhongyang/Desktop/毕业设计/LWM_MODEL/LWM/scenarios/city_19_oklahoma/BS1_UE_0-6150.mat\n"
     ]
    },
    {
     "name": "stderr",
     "output_type": "stream",
     "text": [
      "Reading ray-tracing: 100%|██████████| 6150/6150 [00:00<00:00, 221313.47it/s]\n",
      "Generating channels: 100%|██████████| 6150/6150 [00:00<00:00, 9962.51it/s] \n"
     ]
    },
    {
     "name": "stdout",
     "output_type": "stream",
     "text": [
      "\n",
      "Basestation 1\n",
      "\n",
      "UE-BS Channels\n",
      "/Users/dianhongyang/Desktop/毕业设计/LWM_MODEL/LWM/scenarios/city_12_fortworth/BS1_UE_0-6192.mat\n"
     ]
    },
    {
     "name": "stderr",
     "output_type": "stream",
     "text": [
      "Reading ray-tracing: 100%|██████████| 6192/6192 [00:00<00:00, 348512.22it/s]\n",
      "Generating channels: 100%|██████████| 6192/6192 [00:00<00:00, 20467.45it/s]\n"
     ]
    },
    {
     "name": "stdout",
     "output_type": "stream",
     "text": [
      "\n",
      "Basestation 1\n",
      "\n",
      "UE-BS Channels\n",
      "/Users/dianhongyang/Desktop/毕业设计/LWM_MODEL/LWM/scenarios/city_11_santaclara/BS1_UE_0-5358.mat\n"
     ]
    },
    {
     "name": "stderr",
     "output_type": "stream",
     "text": [
      "Reading ray-tracing: 100%|██████████| 5358/5358 [00:00<00:00, 222933.96it/s]\n",
      "Generating channels: 100%|██████████| 5358/5358 [00:00<00:00, 15039.41it/s]\n"
     ]
    },
    {
     "name": "stdout",
     "output_type": "stream",
     "text": [
      "\n",
      "Basestation 1\n",
      "\n",
      "UE-BS Channels\n",
      "/Users/dianhongyang/Desktop/毕业设计/LWM_MODEL/LWM/scenarios/city_7_sandiego/BS1_UE_0-5893.mat\n"
     ]
    },
    {
     "name": "stderr",
     "output_type": "stream",
     "text": [
      "Reading ray-tracing: 100%|██████████| 5893/5893 [00:00<00:00, 304843.72it/s]\n",
      "Generating channels: 100%|██████████| 5893/5893 [00:00<00:00, 13415.32it/s]\n"
     ]
    }
   ],
   "source": [
    "from input_preprocess import create_labels\n",
    "import numpy as np\n",
    "tasks = ['LoS/NLoS Classification', 'Beam Prediction']\n",
    "task = tasks[0] # Choose 0 for LoS/NLoS labels or 1 for beam prediction labels.\n",
    "labels = create_labels(task, scenario_names, n_beams=64) # For beam prediction, n_beams specifies the number of beams in the codebook. If you're generating labels for LoS/NLoS classification, you can leave this value unchanged as it doesn't impact the label generation."
   ]
  },
  {
   "cell_type": "code",
   "execution_count": 48,
   "metadata": {},
   "outputs": [],
   "source": [
    "labels = torch.tensor(labels)"
   ]
  },
  {
   "cell_type": "code",
   "execution_count": 11,
   "metadata": {},
   "outputs": [
    {
     "data": {
      "text/plain": [
       "torch.Size([14840, 64])"
      ]
     },
     "execution_count": 11,
     "metadata": {},
     "output_type": "execute_result"
    }
   ],
   "source": [
    "dataset.shape"
   ]
  },
  {
   "cell_type": "code",
   "execution_count": 49,
   "metadata": {},
   "outputs": [],
   "source": [
    "# 划分数据集 设置50%训练集 50%验证集\n",
    "from sklearn.model_selection import train_test_split    \n",
    "x_train, x_test, y_train, y_test = train_test_split(dataset, labels, test_size=0.5, random_state=42)"
   ]
  },
  {
   "cell_type": "code",
   "execution_count": 73,
   "metadata": {},
   "outputs": [],
   "source": [
    "from torch.utils.data import Dataset, DataLoader, TensorDataset, random_split\n",
    "from sklearn.preprocessing import StandardScaler\n",
    "import numpy as np\n",
    "# 使用 TensorDataset 将数据和标签封装成 PyTorch Dataset 对象\n",
    "train_dataset = TensorDataset(x_train, y_train)\n",
    "test_dataset = TensorDataset(x_test, y_test)\n",
    "\n",
    "\n",
    "# 划分训练集和验证集\n",
    "train_size = int(0.8 * len(train_dataset))\n",
    "val_size = len(train_dataset) - train_size\n",
    "train_data, val_data = random_split(train_dataset, [train_size, val_size])\n",
    "\n",
    "batch_size = 64\n",
    "# 提取训练数据以进行归一化\n",
    "scaler = StandardScaler()\n",
    "\n",
    "# 获取训练集、验证集和测试集的数据和标签\n",
    "train_x = torch.stack([train_data[i][0] for i in range(len(train_data))])  # 提取训练集数据\n",
    "train_y = torch.tensor([train_data[i][1] for i in range(len(train_data))])  # 提取训练集标签\n",
    "\n",
    "val_x = torch.stack([val_data[i][0] for i in range(len(val_data))])  # 提取验证集数据\n",
    "val_y = torch.tensor([val_data[i][1] for i in range(len(val_data))])  # 提取验证集标签\n",
    "\n",
    "test_x = torch.stack([test_dataset[i][0] for i in range(len(test_dataset))])  # 提取测试集数据\n",
    "test_y = torch.tensor([test_dataset[i][1] for i in range(len(test_dataset))])  # 提取测试集标签\n",
    "\n",
    "# 在训练集上拟合 StandardScaler，并对训练集进行变换\n",
    "scaler.fit(train_x.numpy())\n",
    "train_x = torch.tensor(scaler.transform(train_x.numpy()), dtype=torch.float32)\n",
    "\n",
    "# 对验证集和测试集进行变换（使用训练集拟合的 StandardScaler）\n",
    "val_x = torch.tensor(scaler.transform(val_x.numpy()), dtype=torch.float32)\n",
    "test_x = torch.tensor(scaler.transform(test_x.numpy()), dtype=torch.float32)\n",
    "\n",
    "# 将归一化后的数据重新封装成 TensorDataset\n",
    "train_dataset = TensorDataset(train_x, train_y)\n",
    "val_dataset = TensorDataset(val_x, val_y)\n",
    "test_dataset = TensorDataset(test_x, test_y)\n",
    "\n",
    "# 使用 DataLoader 创建数据加载器\n",
    "batch_size = 64\n",
    "train_loader = DataLoader(train_dataset, batch_size=batch_size, shuffle=True)  # 训练集\n",
    "val_loader = DataLoader(val_dataset, batch_size=batch_size, shuffle=False)  # 验证集\n",
    "test_loader = DataLoader(test_dataset, batch_size=batch_size, shuffle=False)  # 测试集\n"
   ]
  },
  {
   "cell_type": "code",
   "execution_count": 81,
   "metadata": {},
   "outputs": [
    {
     "name": "stdout",
     "output_type": "stream",
     "text": [
      "model:\n",
      "Sequential(\n",
      "  (0): Linear(in_features=64, out_features=1024, bias=True)\n",
      "  (1): ReLU()\n",
      "  (2): Dropout(p=0.2, inplace=False)\n",
      "  (3): Linear(in_features=1024, out_features=520, bias=True)\n",
      "  (4): ReLU()\n",
      "  (5): Dropout(p=0.2, inplace=False)\n",
      "  (6): Linear(in_features=520, out_features=64, bias=True)\n",
      "  (7): ReLU()\n",
      "  (8): Dropout(p=0.2, inplace=False)\n",
      "  (9): Linear(in_features=64, out_features=2, bias=True)\n",
      "  (10): Softmax(dim=1)\n",
      ")\n"
     ]
    }
   ],
   "source": [
    "# 创建下游任务模型 并放入mps加速\n",
    "from torch.nn import Sequential, ReLU, Linear, Softmax, CrossEntropyLoss\n",
    "from torch.utils.tensorboard import SummaryWriter\n",
    "from torch.nn import Sequential, ReLU, Linear, Softmax, Dropout\n",
    "\n",
    "model = Sequential(\n",
    "        Linear(64, 1024),\n",
    "        ReLU(),\n",
    "        Dropout(0.2),\n",
    "        Linear(1024, 520),\n",
    "        ReLU(),\n",
    "        Dropout(0.2),\n",
    "        Linear(520, 64),\n",
    "        ReLU(),\n",
    "        Dropout(0.2),\n",
    "        Linear(64, 2),   # 输入 D_MODEL 维度，输出 2 类\n",
    "        Softmax(dim=1)   # 归一化\n",
    ")\n",
    "\n",
    "print(f'model:\\n{model}')\n"
   ]
  },
  {
   "cell_type": "code",
   "execution_count": 77,
   "metadata": {},
   "outputs": [
    {
     "name": "stdout",
     "output_type": "stream",
     "text": [
      "Using device: mps\n"
     ]
    }
   ],
   "source": [
    "device = torch.device(\"mps\" if torch.backends.mps.is_available() else \"cpu\")\n",
    "print(f\"Using device: {device}\")\n",
    "model = model.to(device)"
   ]
  },
  {
   "cell_type": "code",
   "execution_count": 78,
   "metadata": {},
   "outputs": [],
   "source": [
    "# 损失函数和优化器\n",
    "from torch.optim import AdamW\n",
    "from torch.optim.lr_scheduler import StepLR\n",
    "criterion = CrossEntropyLoss()\n",
    "optimizer = AdamW(model.parameters(), lr=0.001)\n",
    "scheduler = StepLR(optimizer, step_size=30, gamma=0.5)  # 每 20 轮学习率减小\n",
    "# TensorBoard 日志记录\n",
    "writer = SummaryWriter(\"Log/loss_CLS_5_5\")\n",
    "\n",
    "# 训练模型\n",
    "epochs = 400\n",
    "for epoch in range(epochs):\n",
    "    model.train()  # 切换到训练模式\n",
    "    train_loss = 0.0\n",
    "    for batch_x, batch_y in train_loader:\n",
    "        # 将数据移动到设备\n",
    "        batch_x, batch_y = batch_x.to(device), batch_y.to(device)\n",
    "\n",
    "        optimizer.zero_grad()\n",
    "        outputs = model(batch_x)\n",
    "        loss = criterion(outputs, batch_y)\n",
    "        loss.backward()\n",
    "        optimizer.step()\n",
    "        train_loss += loss.item()\n",
    "\n",
    "    writer.add_scalar(\"train_loss\", train_loss, epoch)\n",
    "\n",
    "    model.eval()  # 切换到评估模式\n",
    "    val_corrent = 0\n",
    "    evl_loss = 0\n",
    "    with torch.no_grad():\n",
    "        for batch_x, batch_y in val_loader:\n",
    "            # 将数据移动到设备\n",
    "            batch_x, batch_y = batch_x.to(device), batch_y.to(device)\n",
    "            outputs = model(batch_x)\n",
    "            loss = criterion(outputs, batch_y)\n",
    "            evl_loss += loss\n",
    "            val_corrent+= (torch.argmax(outputs, dim=1) == batch_y).sum().item()\n",
    "            \n",
    "    writer.add_scalar(\"evl_loss\", evl_loss, epoch)\n",
    "    writer.add_scalar(\"evl_accurancy\", val_corrent/len(val_data), epoch)\n",
    "    scheduler.step()  # 调整学习率\n",
    "writer.close()"
   ]
  },
  {
   "cell_type": "code",
   "execution_count": 79,
   "metadata": {},
   "outputs": [
    {
     "name": "stdout",
     "output_type": "stream",
     "text": [
      "Test Accuracy: 0.9570\n",
      "Confusion Matrix:\n",
      " [[2705  158]\n",
      " [ 161 4396]]\n"
     ]
    },
    {
     "data": {
      "image/png": "[encoded data removed]",
      "text/plain": [
       "<Figure size 640x480 with 2 Axes>"
      ]
     },
     "metadata": {},
     "output_type": "display_data"
    }
   ],
   "source": [
    "from sklearn.metrics import confusion_matrix, ConfusionMatrixDisplay\n",
    "import matplotlib.pyplot as plt\n",
    "\n",
    "# 评估阶段\n",
    "model.eval()\n",
    "test_correct = 0\n",
    "# 存储预测值和真实标签\n",
    "all_preds = []\n",
    "all_labels = []\n",
    "with torch.no_grad():\n",
    "    for batch_x, batch_y in test_loader:\n",
    "        # 将数据移动到设备\n",
    "        batch_x, batch_y = batch_x.to(device), batch_y.to(device)\n",
    "        outputs = model(batch_x)\n",
    "        preds = torch.argmax(outputs, dim=1)\n",
    "\n",
    "        # 记录预测和真实值\n",
    "        all_preds.extend(preds.cpu().numpy())\n",
    "        all_labels.extend(batch_y.cpu().numpy())\n",
    "        test_correct += (torch.argmax(outputs, dim=1) == batch_y).sum().item()\n",
    "\n",
    "\n",
    "print(f\"Test Accuracy: {test_correct / len(y_test):.4f}\")\n",
    "\n",
    "\n",
    "conf_matrix = confusion_matrix(all_labels, all_preds)\n",
    "print(\"Confusion Matrix:\\n\", conf_matrix)\n",
    "\n",
    "# 混淆矩阵\n",
    "class_names = [\"NLos\", \"Los\"] \n",
    "disp = ConfusionMatrixDisplay(confusion_matrix=conf_matrix, display_labels=class_names)\n",
    "disp.plot(cmap=plt.cm.Blues)\n",
    "plt.title(\"Confusion Matrix\")\n",
    "plt.show()\n"
   ]
  }
 ],
 "metadata": {
  "kernelspec": {
   "display_name": "lwm_env",
   "language": "python",
   "name": "python3"
  },
  "language_info": {
   "codemirror_mode": {
    "name": "ipython",
    "version": 3
   },
   "file_extension": ".py",
   "mimetype": "text/x-python",
   "name": "python",
   "nbconvert_exporter": "python",
   "pygments_lexer": "ipython3",
   "version": "3.12.7"
  }
 },
 "nbformat": 4,
 "nbformat_minor": 2
}
